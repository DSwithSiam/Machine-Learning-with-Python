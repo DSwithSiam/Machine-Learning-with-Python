{
 "cells": [
  {
   "cell_type": "code",
   "execution_count": 70,
   "id": "6c692aa9",
   "metadata": {},
   "outputs": [],
   "source": [
    "import pandas as pd\n",
    "import seaborn as sns"
   ]
  },
  {
   "cell_type": "code",
   "execution_count": 71,
   "id": "e21c4c21",
   "metadata": {},
   "outputs": [],
   "source": [
    "book_sales =pd.read_csv(\"book_sales.csv\")"
   ]
  },
  {
   "cell_type": "code",
   "execution_count": 72,
   "id": "f057cc68",
   "metadata": {},
   "outputs": [
    {
     "name": "stdout",
     "output_type": "stream",
     "text": [
      "<class 'pandas.core.frame.DataFrame'>\n",
      "RangeIndex: 30 entries, 0 to 29\n",
      "Data columns (total 3 columns):\n",
      " #   Column     Non-Null Count  Dtype \n",
      "---  ------     --------------  ----- \n",
      " 0   Date       30 non-null     object\n",
      " 1   Paperback  30 non-null     int64 \n",
      " 2   Hardcover  30 non-null     int64 \n",
      "dtypes: int64(2), object(1)\n",
      "memory usage: 848.0+ bytes\n"
     ]
    }
   ],
   "source": [
    "book_sales.info()"
   ]
  },
  {
   "cell_type": "code",
   "execution_count": 73,
   "id": "8760d57a",
   "metadata": {},
   "outputs": [
    {
     "data": {
      "text/html": [
       "<div>\n",
       "<style scoped>\n",
       "    .dataframe tbody tr th:only-of-type {\n",
       "        vertical-align: middle;\n",
       "    }\n",
       "\n",
       "    .dataframe tbody tr th {\n",
       "        vertical-align: top;\n",
       "    }\n",
       "\n",
       "    .dataframe thead th {\n",
       "        text-align: right;\n",
       "    }\n",
       "</style>\n",
       "<table border=\"1\" class=\"dataframe\">\n",
       "  <thead>\n",
       "    <tr style=\"text-align: right;\">\n",
       "      <th></th>\n",
       "      <th>Date</th>\n",
       "      <th>Paperback</th>\n",
       "      <th>Hardcover</th>\n",
       "    </tr>\n",
       "  </thead>\n",
       "  <tbody>\n",
       "    <tr>\n",
       "      <th>0</th>\n",
       "      <td>2000-04-01</td>\n",
       "      <td>199</td>\n",
       "      <td>139</td>\n",
       "    </tr>\n",
       "    <tr>\n",
       "      <th>1</th>\n",
       "      <td>2000-04-02</td>\n",
       "      <td>172</td>\n",
       "      <td>128</td>\n",
       "    </tr>\n",
       "    <tr>\n",
       "      <th>2</th>\n",
       "      <td>2000-04-03</td>\n",
       "      <td>111</td>\n",
       "      <td>172</td>\n",
       "    </tr>\n",
       "    <tr>\n",
       "      <th>3</th>\n",
       "      <td>2000-04-04</td>\n",
       "      <td>209</td>\n",
       "      <td>139</td>\n",
       "    </tr>\n",
       "    <tr>\n",
       "      <th>4</th>\n",
       "      <td>2000-04-05</td>\n",
       "      <td>161</td>\n",
       "      <td>191</td>\n",
       "    </tr>\n",
       "  </tbody>\n",
       "</table>\n",
       "</div>"
      ],
      "text/plain": [
       "         Date  Paperback  Hardcover\n",
       "0  2000-04-01        199        139\n",
       "1  2000-04-02        172        128\n",
       "2  2000-04-03        111        172\n",
       "3  2000-04-04        209        139\n",
       "4  2000-04-05        161        191"
      ]
     },
     "execution_count": 73,
     "metadata": {},
     "output_type": "execute_result"
    }
   ],
   "source": [
    "book_sales.head()"
   ]
  },
  {
   "cell_type": "code",
   "execution_count": 74,
   "id": "8872a1e9",
   "metadata": {},
   "outputs": [
    {
     "data": {
      "text/html": [
       "<div>\n",
       "<style scoped>\n",
       "    .dataframe tbody tr th:only-of-type {\n",
       "        vertical-align: middle;\n",
       "    }\n",
       "\n",
       "    .dataframe tbody tr th {\n",
       "        vertical-align: top;\n",
       "    }\n",
       "\n",
       "    .dataframe thead th {\n",
       "        text-align: right;\n",
       "    }\n",
       "</style>\n",
       "<table border=\"1\" class=\"dataframe\">\n",
       "  <thead>\n",
       "    <tr style=\"text-align: right;\">\n",
       "      <th></th>\n",
       "      <th>Date</th>\n",
       "      <th>Paperback</th>\n",
       "      <th>Hardcover</th>\n",
       "    </tr>\n",
       "  </thead>\n",
       "  <tbody>\n",
       "    <tr>\n",
       "      <th>25</th>\n",
       "      <td>2000-04-26</td>\n",
       "      <td>182</td>\n",
       "      <td>200</td>\n",
       "    </tr>\n",
       "    <tr>\n",
       "      <th>26</th>\n",
       "      <td>2000-04-27</td>\n",
       "      <td>222</td>\n",
       "      <td>201</td>\n",
       "    </tr>\n",
       "    <tr>\n",
       "      <th>27</th>\n",
       "      <td>2000-04-28</td>\n",
       "      <td>217</td>\n",
       "      <td>283</td>\n",
       "    </tr>\n",
       "    <tr>\n",
       "      <th>28</th>\n",
       "      <td>2000-04-29</td>\n",
       "      <td>188</td>\n",
       "      <td>220</td>\n",
       "    </tr>\n",
       "    <tr>\n",
       "      <th>29</th>\n",
       "      <td>2000-04-30</td>\n",
       "      <td>247</td>\n",
       "      <td>259</td>\n",
       "    </tr>\n",
       "  </tbody>\n",
       "</table>\n",
       "</div>"
      ],
      "text/plain": [
       "          Date  Paperback  Hardcover\n",
       "25  2000-04-26        182        200\n",
       "26  2000-04-27        222        201\n",
       "27  2000-04-28        217        283\n",
       "28  2000-04-29        188        220\n",
       "29  2000-04-30        247        259"
      ]
     },
     "execution_count": 74,
     "metadata": {},
     "output_type": "execute_result"
    }
   ],
   "source": [
    "book_sales.tail()"
   ]
  },
  {
   "cell_type": "code",
   "execution_count": 75,
   "id": "f96ba075",
   "metadata": {},
   "outputs": [
    {
     "data": {
      "text/plain": [
       "(30, 3)"
      ]
     },
     "execution_count": 75,
     "metadata": {},
     "output_type": "execute_result"
    }
   ],
   "source": [
    "book_sales.shape"
   ]
  },
  {
   "cell_type": "markdown",
   "id": "ea8b0401",
   "metadata": {},
   "source": [
    "# Normalization / MinMaxScaler"
   ]
  },
  {
   "cell_type": "code",
   "execution_count": 76,
   "id": "f2a4657b",
   "metadata": {},
   "outputs": [],
   "source": [
    "#normalization step\n",
    "#import\n",
    "#creat obj and value for MinMaxScaler \n",
    "#fit\n",
    "# transform the data"
   ]
  },
  {
   "cell_type": "code",
   "execution_count": 77,
   "id": "7677ded1",
   "metadata": {},
   "outputs": [],
   "source": [
    "from sklearn.preprocessing import MinMaxScaler"
   ]
  },
  {
   "cell_type": "code",
   "execution_count": 78,
   "id": "d82f9262",
   "metadata": {},
   "outputs": [],
   "source": [
    "normalization_value = MinMaxScaler(feature_range=(1,2)) "
   ]
  },
  {
   "cell_type": "code",
   "execution_count": 79,
   "id": "12c08554",
   "metadata": {},
   "outputs": [],
   "source": [
    "normalization_fit = normalization_value.fit(book_sales[[\"Paperback\"]])"
   ]
  },
  {
   "cell_type": "code",
   "execution_count": 80,
   "id": "ea90f467",
   "metadata": {},
   "outputs": [
    {
     "data": {
      "text/html": [
       "<div>\n",
       "<style scoped>\n",
       "    .dataframe tbody tr th:only-of-type {\n",
       "        vertical-align: middle;\n",
       "    }\n",
       "\n",
       "    .dataframe tbody tr th {\n",
       "        vertical-align: top;\n",
       "    }\n",
       "\n",
       "    .dataframe thead th {\n",
       "        text-align: right;\n",
       "    }\n",
       "</style>\n",
       "<table border=\"1\" class=\"dataframe\">\n",
       "  <thead>\n",
       "    <tr style=\"text-align: right;\">\n",
       "      <th></th>\n",
       "      <th>Date</th>\n",
       "      <th>Paperback</th>\n",
       "      <th>Hardcover</th>\n",
       "    </tr>\n",
       "  </thead>\n",
       "  <tbody>\n",
       "    <tr>\n",
       "      <th>0</th>\n",
       "      <td>2000-04-01</td>\n",
       "      <td>199</td>\n",
       "      <td>139</td>\n",
       "    </tr>\n",
       "    <tr>\n",
       "      <th>1</th>\n",
       "      <td>2000-04-02</td>\n",
       "      <td>172</td>\n",
       "      <td>128</td>\n",
       "    </tr>\n",
       "    <tr>\n",
       "      <th>2</th>\n",
       "      <td>2000-04-03</td>\n",
       "      <td>111</td>\n",
       "      <td>172</td>\n",
       "    </tr>\n",
       "    <tr>\n",
       "      <th>3</th>\n",
       "      <td>2000-04-04</td>\n",
       "      <td>209</td>\n",
       "      <td>139</td>\n",
       "    </tr>\n",
       "    <tr>\n",
       "      <th>4</th>\n",
       "      <td>2000-04-05</td>\n",
       "      <td>161</td>\n",
       "      <td>191</td>\n",
       "    </tr>\n",
       "    <tr>\n",
       "      <th>5</th>\n",
       "      <td>2000-04-06</td>\n",
       "      <td>119</td>\n",
       "      <td>168</td>\n",
       "    </tr>\n",
       "    <tr>\n",
       "      <th>6</th>\n",
       "      <td>2000-04-07</td>\n",
       "      <td>195</td>\n",
       "      <td>170</td>\n",
       "    </tr>\n",
       "    <tr>\n",
       "      <th>7</th>\n",
       "      <td>2000-04-08</td>\n",
       "      <td>195</td>\n",
       "      <td>145</td>\n",
       "    </tr>\n",
       "  </tbody>\n",
       "</table>\n",
       "</div>"
      ],
      "text/plain": [
       "         Date  Paperback  Hardcover\n",
       "0  2000-04-01        199        139\n",
       "1  2000-04-02        172        128\n",
       "2  2000-04-03        111        172\n",
       "3  2000-04-04        209        139\n",
       "4  2000-04-05        161        191\n",
       "5  2000-04-06        119        168\n",
       "6  2000-04-07        195        170\n",
       "7  2000-04-08        195        145"
      ]
     },
     "execution_count": 80,
     "metadata": {},
     "output_type": "execute_result"
    }
   ],
   "source": [
    "book_sales.head(8)"
   ]
  },
  {
   "cell_type": "code",
   "execution_count": 81,
   "id": "5d63be87",
   "metadata": {},
   "outputs": [],
   "source": [
    "book_sales['Paperback'] = normalization_value.transform(book_sales[['Paperback']])"
   ]
  },
  {
   "cell_type": "code",
   "execution_count": 82,
   "id": "8b725881",
   "metadata": {},
   "outputs": [
    {
     "data": {
      "text/html": [
       "<div>\n",
       "<style scoped>\n",
       "    .dataframe tbody tr th:only-of-type {\n",
       "        vertical-align: middle;\n",
       "    }\n",
       "\n",
       "    .dataframe tbody tr th {\n",
       "        vertical-align: top;\n",
       "    }\n",
       "\n",
       "    .dataframe thead th {\n",
       "        text-align: right;\n",
       "    }\n",
       "</style>\n",
       "<table border=\"1\" class=\"dataframe\">\n",
       "  <thead>\n",
       "    <tr style=\"text-align: right;\">\n",
       "      <th></th>\n",
       "      <th>Date</th>\n",
       "      <th>Paperback</th>\n",
       "      <th>Hardcover</th>\n",
       "    </tr>\n",
       "  </thead>\n",
       "  <tbody>\n",
       "    <tr>\n",
       "      <th>0</th>\n",
       "      <td>2000-04-01</td>\n",
       "      <td>1.647059</td>\n",
       "      <td>139</td>\n",
       "    </tr>\n",
       "    <tr>\n",
       "      <th>1</th>\n",
       "      <td>2000-04-02</td>\n",
       "      <td>1.448529</td>\n",
       "      <td>128</td>\n",
       "    </tr>\n",
       "    <tr>\n",
       "      <th>2</th>\n",
       "      <td>2000-04-03</td>\n",
       "      <td>1.000000</td>\n",
       "      <td>172</td>\n",
       "    </tr>\n",
       "    <tr>\n",
       "      <th>3</th>\n",
       "      <td>2000-04-04</td>\n",
       "      <td>1.720588</td>\n",
       "      <td>139</td>\n",
       "    </tr>\n",
       "    <tr>\n",
       "      <th>4</th>\n",
       "      <td>2000-04-05</td>\n",
       "      <td>1.367647</td>\n",
       "      <td>191</td>\n",
       "    </tr>\n",
       "    <tr>\n",
       "      <th>5</th>\n",
       "      <td>2000-04-06</td>\n",
       "      <td>1.058824</td>\n",
       "      <td>168</td>\n",
       "    </tr>\n",
       "    <tr>\n",
       "      <th>6</th>\n",
       "      <td>2000-04-07</td>\n",
       "      <td>1.617647</td>\n",
       "      <td>170</td>\n",
       "    </tr>\n",
       "    <tr>\n",
       "      <th>7</th>\n",
       "      <td>2000-04-08</td>\n",
       "      <td>1.617647</td>\n",
       "      <td>145</td>\n",
       "    </tr>\n",
       "  </tbody>\n",
       "</table>\n",
       "</div>"
      ],
      "text/plain": [
       "         Date  Paperback  Hardcover\n",
       "0  2000-04-01   1.647059        139\n",
       "1  2000-04-02   1.448529        128\n",
       "2  2000-04-03   1.000000        172\n",
       "3  2000-04-04   1.720588        139\n",
       "4  2000-04-05   1.367647        191\n",
       "5  2000-04-06   1.058824        168\n",
       "6  2000-04-07   1.617647        170\n",
       "7  2000-04-08   1.617647        145"
      ]
     },
     "execution_count": 82,
     "metadata": {},
     "output_type": "execute_result"
    }
   ],
   "source": [
    "book_sales.head(8)"
   ]
  },
  {
   "cell_type": "code",
   "execution_count": 83,
   "id": "ff22692b",
   "metadata": {},
   "outputs": [],
   "source": [
    "# fit and transforn together\n",
    "book_sales['Hardcover'] = normalization_value.fit_transform(book_sales[['Hardcover']])"
   ]
  },
  {
   "cell_type": "code",
   "execution_count": 84,
   "id": "7a8d01dd",
   "metadata": {},
   "outputs": [
    {
     "data": {
      "text/html": [
       "<div>\n",
       "<style scoped>\n",
       "    .dataframe tbody tr th:only-of-type {\n",
       "        vertical-align: middle;\n",
       "    }\n",
       "\n",
       "    .dataframe tbody tr th {\n",
       "        vertical-align: top;\n",
       "    }\n",
       "\n",
       "    .dataframe thead th {\n",
       "        text-align: right;\n",
       "    }\n",
       "</style>\n",
       "<table border=\"1\" class=\"dataframe\">\n",
       "  <thead>\n",
       "    <tr style=\"text-align: right;\">\n",
       "      <th></th>\n",
       "      <th>Date</th>\n",
       "      <th>Paperback</th>\n",
       "      <th>Hardcover</th>\n",
       "    </tr>\n",
       "  </thead>\n",
       "  <tbody>\n",
       "    <tr>\n",
       "      <th>0</th>\n",
       "      <td>2000-04-01</td>\n",
       "      <td>1.647059</td>\n",
       "      <td>1.070968</td>\n",
       "    </tr>\n",
       "    <tr>\n",
       "      <th>1</th>\n",
       "      <td>2000-04-02</td>\n",
       "      <td>1.448529</td>\n",
       "      <td>1.000000</td>\n",
       "    </tr>\n",
       "    <tr>\n",
       "      <th>2</th>\n",
       "      <td>2000-04-03</td>\n",
       "      <td>1.000000</td>\n",
       "      <td>1.283871</td>\n",
       "    </tr>\n",
       "    <tr>\n",
       "      <th>3</th>\n",
       "      <td>2000-04-04</td>\n",
       "      <td>1.720588</td>\n",
       "      <td>1.070968</td>\n",
       "    </tr>\n",
       "    <tr>\n",
       "      <th>4</th>\n",
       "      <td>2000-04-05</td>\n",
       "      <td>1.367647</td>\n",
       "      <td>1.406452</td>\n",
       "    </tr>\n",
       "  </tbody>\n",
       "</table>\n",
       "</div>"
      ],
      "text/plain": [
       "         Date  Paperback  Hardcover\n",
       "0  2000-04-01   1.647059   1.070968\n",
       "1  2000-04-02   1.448529   1.000000\n",
       "2  2000-04-03   1.000000   1.283871\n",
       "3  2000-04-04   1.720588   1.070968\n",
       "4  2000-04-05   1.367647   1.406452"
      ]
     },
     "execution_count": 84,
     "metadata": {},
     "output_type": "execute_result"
    }
   ],
   "source": [
    "book_sales.head()"
   ]
  },
  {
   "cell_type": "markdown",
   "id": "4253a3b1",
   "metadata": {},
   "source": [
    "# Standard Scaler / Standardization\n"
   ]
  },
  {
   "cell_type": "code",
   "execution_count": 85,
   "id": "61add9e3",
   "metadata": {},
   "outputs": [],
   "source": [
    "book_sales2 = pd.read_csv('book_sales.csv')"
   ]
  },
  {
   "cell_type": "code",
   "execution_count": 86,
   "id": "9ce0e227",
   "metadata": {},
   "outputs": [],
   "source": [
    "from sklearn.preprocessing import StandardScaler"
   ]
  },
  {
   "cell_type": "code",
   "execution_count": 87,
   "id": "48de8666",
   "metadata": {},
   "outputs": [],
   "source": [
    "standardization_value = StandardScaler()"
   ]
  },
  {
   "cell_type": "code",
   "execution_count": 88,
   "id": "438eba5c",
   "metadata": {},
   "outputs": [],
   "source": [
    "book_sales2['Paperback'] = standardization_value.fit_transform(book_sales2[[\"Paperback\"]])"
   ]
  },
  {
   "cell_type": "code",
   "execution_count": 89,
   "id": "5d2e2daf",
   "metadata": {},
   "outputs": [],
   "source": [
    "book_sales2['Hardcover'] = standardization_value.fit_transform(book_sales2[[\"Hardcover\"]])"
   ]
  },
  {
   "cell_type": "code",
   "execution_count": 90,
   "id": "14d1b857",
   "metadata": {},
   "outputs": [
    {
     "data": {
      "text/html": [
       "<div>\n",
       "<style scoped>\n",
       "    .dataframe tbody tr th:only-of-type {\n",
       "        vertical-align: middle;\n",
       "    }\n",
       "\n",
       "    .dataframe tbody tr th {\n",
       "        vertical-align: top;\n",
       "    }\n",
       "\n",
       "    .dataframe thead th {\n",
       "        text-align: right;\n",
       "    }\n",
       "</style>\n",
       "<table border=\"1\" class=\"dataframe\">\n",
       "  <thead>\n",
       "    <tr style=\"text-align: right;\">\n",
       "      <th></th>\n",
       "      <th>Date</th>\n",
       "      <th>Paperback</th>\n",
       "      <th>Hardcover</th>\n",
       "    </tr>\n",
       "  </thead>\n",
       "  <tbody>\n",
       "    <tr>\n",
       "      <th>0</th>\n",
       "      <td>2000-04-01</td>\n",
       "      <td>0.361195</td>\n",
       "      <td>-1.510022</td>\n",
       "    </tr>\n",
       "    <tr>\n",
       "      <th>1</th>\n",
       "      <td>2000-04-02</td>\n",
       "      <td>-0.412794</td>\n",
       "      <td>-1.787631</td>\n",
       "    </tr>\n",
       "    <tr>\n",
       "      <th>2</th>\n",
       "      <td>2000-04-03</td>\n",
       "      <td>-2.161438</td>\n",
       "      <td>-0.677197</td>\n",
       "    </tr>\n",
       "    <tr>\n",
       "      <th>3</th>\n",
       "      <td>2000-04-04</td>\n",
       "      <td>0.647858</td>\n",
       "      <td>-1.510022</td>\n",
       "    </tr>\n",
       "    <tr>\n",
       "      <th>4</th>\n",
       "      <td>2000-04-05</td>\n",
       "      <td>-0.728124</td>\n",
       "      <td>-0.197691</td>\n",
       "    </tr>\n",
       "    <tr>\n",
       "      <th>5</th>\n",
       "      <td>2000-04-06</td>\n",
       "      <td>-1.932107</td>\n",
       "      <td>-0.778145</td>\n",
       "    </tr>\n",
       "    <tr>\n",
       "      <th>6</th>\n",
       "      <td>2000-04-07</td>\n",
       "      <td>0.246530</td>\n",
       "      <td>-0.727671</td>\n",
       "    </tr>\n",
       "    <tr>\n",
       "      <th>7</th>\n",
       "      <td>2000-04-08</td>\n",
       "      <td>0.246530</td>\n",
       "      <td>-1.358600</td>\n",
       "    </tr>\n",
       "  </tbody>\n",
       "</table>\n",
       "</div>"
      ],
      "text/plain": [
       "         Date  Paperback  Hardcover\n",
       "0  2000-04-01   0.361195  -1.510022\n",
       "1  2000-04-02  -0.412794  -1.787631\n",
       "2  2000-04-03  -2.161438  -0.677197\n",
       "3  2000-04-04   0.647858  -1.510022\n",
       "4  2000-04-05  -0.728124  -0.197691\n",
       "5  2000-04-06  -1.932107  -0.778145\n",
       "6  2000-04-07   0.246530  -0.727671\n",
       "7  2000-04-08   0.246530  -1.358600"
      ]
     },
     "execution_count": 90,
     "metadata": {},
     "output_type": "execute_result"
    }
   ],
   "source": [
    "book_sales2.head(8)"
   ]
  },
  {
   "cell_type": "markdown",
   "id": "628d946a",
   "metadata": {},
   "source": [
    "# Robust Scaler"
   ]
  },
  {
   "cell_type": "code",
   "execution_count": 91,
   "id": "c1b8822d",
   "metadata": {},
   "outputs": [],
   "source": [
    "book_sales3 = pd.read_csv('book_sales.csv')"
   ]
  },
  {
   "cell_type": "code",
   "execution_count": 92,
   "id": "4641b9eb",
   "metadata": {},
   "outputs": [],
   "source": [
    "from sklearn.preprocessing import RobustScaler"
   ]
  },
  {
   "cell_type": "code",
   "execution_count": 93,
   "id": "a7c324b5",
   "metadata": {},
   "outputs": [],
   "source": [
    "robustscaler_value = RobustScaler()"
   ]
  },
  {
   "cell_type": "code",
   "execution_count": 94,
   "id": "dfb57061",
   "metadata": {},
   "outputs": [],
   "source": [
    "book_sales3['Paperback'] = robustscaler_value.fit_transform(book_sales3[['Paperback']])"
   ]
  },
  {
   "cell_type": "code",
   "execution_count": 95,
   "id": "df67e620",
   "metadata": {},
   "outputs": [],
   "source": [
    "book_sales3['Hardcover'] = robustscaler_value.fit_transform(book_sales3[['Hardcover']])"
   ]
  },
  {
   "cell_type": "code",
   "execution_count": 96,
   "id": "fa010b75",
   "metadata": {},
   "outputs": [
    {
     "data": {
      "text/html": [
       "<div>\n",
       "<style scoped>\n",
       "    .dataframe tbody tr th:only-of-type {\n",
       "        vertical-align: middle;\n",
       "    }\n",
       "\n",
       "    .dataframe tbody tr th {\n",
       "        vertical-align: top;\n",
       "    }\n",
       "\n",
       "    .dataframe thead th {\n",
       "        text-align: right;\n",
       "    }\n",
       "</style>\n",
       "<table border=\"1\" class=\"dataframe\">\n",
       "  <thead>\n",
       "    <tr style=\"text-align: right;\">\n",
       "      <th></th>\n",
       "      <th>Date</th>\n",
       "      <th>Paperback</th>\n",
       "      <th>Hardcover</th>\n",
       "    </tr>\n",
       "  </thead>\n",
       "  <tbody>\n",
       "    <tr>\n",
       "      <th>0</th>\n",
       "      <td>2000-04-01</td>\n",
       "      <td>0.250</td>\n",
       "      <td>-1.194175</td>\n",
       "    </tr>\n",
       "    <tr>\n",
       "      <th>1</th>\n",
       "      <td>2000-04-02</td>\n",
       "      <td>-0.425</td>\n",
       "      <td>-1.407767</td>\n",
       "    </tr>\n",
       "    <tr>\n",
       "      <th>2</th>\n",
       "      <td>2000-04-03</td>\n",
       "      <td>-1.950</td>\n",
       "      <td>-0.553398</td>\n",
       "    </tr>\n",
       "    <tr>\n",
       "      <th>3</th>\n",
       "      <td>2000-04-04</td>\n",
       "      <td>0.500</td>\n",
       "      <td>-1.194175</td>\n",
       "    </tr>\n",
       "    <tr>\n",
       "      <th>4</th>\n",
       "      <td>2000-04-05</td>\n",
       "      <td>-0.700</td>\n",
       "      <td>-0.184466</td>\n",
       "    </tr>\n",
       "    <tr>\n",
       "      <th>5</th>\n",
       "      <td>2000-04-06</td>\n",
       "      <td>-1.750</td>\n",
       "      <td>-0.631068</td>\n",
       "    </tr>\n",
       "    <tr>\n",
       "      <th>6</th>\n",
       "      <td>2000-04-07</td>\n",
       "      <td>0.150</td>\n",
       "      <td>-0.592233</td>\n",
       "    </tr>\n",
       "    <tr>\n",
       "      <th>7</th>\n",
       "      <td>2000-04-08</td>\n",
       "      <td>0.150</td>\n",
       "      <td>-1.077670</td>\n",
       "    </tr>\n",
       "  </tbody>\n",
       "</table>\n",
       "</div>"
      ],
      "text/plain": [
       "         Date  Paperback  Hardcover\n",
       "0  2000-04-01      0.250  -1.194175\n",
       "1  2000-04-02     -0.425  -1.407767\n",
       "2  2000-04-03     -1.950  -0.553398\n",
       "3  2000-04-04      0.500  -1.194175\n",
       "4  2000-04-05     -0.700  -0.184466\n",
       "5  2000-04-06     -1.750  -0.631068\n",
       "6  2000-04-07      0.150  -0.592233\n",
       "7  2000-04-08      0.150  -1.077670"
      ]
     },
     "execution_count": 96,
     "metadata": {},
     "output_type": "execute_result"
    }
   ],
   "source": [
    "book_sales3.head(8)"
   ]
  },
  {
   "cell_type": "markdown",
   "id": "87aaf288",
   "metadata": {},
   "source": [
    "# Max Absolute Scaler"
   ]
  },
  {
   "cell_type": "code",
   "execution_count": 97,
   "id": "792e3c4b",
   "metadata": {},
   "outputs": [],
   "source": [
    "book_sales4 = pd.read_csv('book_sales.csv')"
   ]
  },
  {
   "cell_type": "code",
   "execution_count": 98,
   "id": "813cdede",
   "metadata": {},
   "outputs": [],
   "source": [
    "from sklearn.preprocessing import MaxAbsScaler "
   ]
  },
  {
   "cell_type": "code",
   "execution_count": 99,
   "id": "9922c9f7",
   "metadata": {},
   "outputs": [],
   "source": [
    "MaxAbsScaler_value = MaxAbsScaler()"
   ]
  },
  {
   "cell_type": "code",
   "execution_count": 100,
   "id": "38df03af",
   "metadata": {},
   "outputs": [],
   "source": [
    "book_sales4['Paperback'] = MaxAbsScaler_value.fit_transform(book_sales4[['Paperback']])"
   ]
  },
  {
   "cell_type": "code",
   "execution_count": 102,
   "id": "cbf3b1af",
   "metadata": {},
   "outputs": [],
   "source": [
    "book_sales4['Hardcover'] = MaxAbsScaler_value.fit_transform(book_sales4[['Hardcover']])"
   ]
  },
  {
   "cell_type": "code",
   "execution_count": 103,
   "id": "31052b17",
   "metadata": {},
   "outputs": [
    {
     "data": {
      "text/html": [
       "<div>\n",
       "<style scoped>\n",
       "    .dataframe tbody tr th:only-of-type {\n",
       "        vertical-align: middle;\n",
       "    }\n",
       "\n",
       "    .dataframe tbody tr th {\n",
       "        vertical-align: top;\n",
       "    }\n",
       "\n",
       "    .dataframe thead th {\n",
       "        text-align: right;\n",
       "    }\n",
       "</style>\n",
       "<table border=\"1\" class=\"dataframe\">\n",
       "  <thead>\n",
       "    <tr style=\"text-align: right;\">\n",
       "      <th></th>\n",
       "      <th>Date</th>\n",
       "      <th>Paperback</th>\n",
       "      <th>Hardcover</th>\n",
       "    </tr>\n",
       "  </thead>\n",
       "  <tbody>\n",
       "    <tr>\n",
       "      <th>0</th>\n",
       "      <td>2000-04-01</td>\n",
       "      <td>0.805668</td>\n",
       "      <td>0.491166</td>\n",
       "    </tr>\n",
       "    <tr>\n",
       "      <th>1</th>\n",
       "      <td>2000-04-02</td>\n",
       "      <td>0.696356</td>\n",
       "      <td>0.452297</td>\n",
       "    </tr>\n",
       "    <tr>\n",
       "      <th>2</th>\n",
       "      <td>2000-04-03</td>\n",
       "      <td>0.449393</td>\n",
       "      <td>0.607774</td>\n",
       "    </tr>\n",
       "    <tr>\n",
       "      <th>3</th>\n",
       "      <td>2000-04-04</td>\n",
       "      <td>0.846154</td>\n",
       "      <td>0.491166</td>\n",
       "    </tr>\n",
       "    <tr>\n",
       "      <th>4</th>\n",
       "      <td>2000-04-05</td>\n",
       "      <td>0.651822</td>\n",
       "      <td>0.674912</td>\n",
       "    </tr>\n",
       "    <tr>\n",
       "      <th>5</th>\n",
       "      <td>2000-04-06</td>\n",
       "      <td>0.481781</td>\n",
       "      <td>0.593640</td>\n",
       "    </tr>\n",
       "    <tr>\n",
       "      <th>6</th>\n",
       "      <td>2000-04-07</td>\n",
       "      <td>0.789474</td>\n",
       "      <td>0.600707</td>\n",
       "    </tr>\n",
       "    <tr>\n",
       "      <th>7</th>\n",
       "      <td>2000-04-08</td>\n",
       "      <td>0.789474</td>\n",
       "      <td>0.512367</td>\n",
       "    </tr>\n",
       "  </tbody>\n",
       "</table>\n",
       "</div>"
      ],
      "text/plain": [
       "         Date  Paperback  Hardcover\n",
       "0  2000-04-01   0.805668   0.491166\n",
       "1  2000-04-02   0.696356   0.452297\n",
       "2  2000-04-03   0.449393   0.607774\n",
       "3  2000-04-04   0.846154   0.491166\n",
       "4  2000-04-05   0.651822   0.674912\n",
       "5  2000-04-06   0.481781   0.593640\n",
       "6  2000-04-07   0.789474   0.600707\n",
       "7  2000-04-08   0.789474   0.512367"
      ]
     },
     "execution_count": 103,
     "metadata": {},
     "output_type": "execute_result"
    }
   ],
   "source": [
    "book_sales4.head(8)"
   ]
  },
  {
   "cell_type": "code",
   "execution_count": 104,
   "id": "69af9467",
   "metadata": {},
   "outputs": [
    {
     "data": {
      "text/html": [
       "<div>\n",
       "<style scoped>\n",
       "    .dataframe tbody tr th:only-of-type {\n",
       "        vertical-align: middle;\n",
       "    }\n",
       "\n",
       "    .dataframe tbody tr th {\n",
       "        vertical-align: top;\n",
       "    }\n",
       "\n",
       "    .dataframe thead th {\n",
       "        text-align: right;\n",
       "    }\n",
       "</style>\n",
       "<table border=\"1\" class=\"dataframe\">\n",
       "  <thead>\n",
       "    <tr style=\"text-align: right;\">\n",
       "      <th></th>\n",
       "      <th>Date</th>\n",
       "      <th>Paperback</th>\n",
       "      <th>Hardcover</th>\n",
       "    </tr>\n",
       "  </thead>\n",
       "  <tbody>\n",
       "    <tr>\n",
       "      <th>22</th>\n",
       "      <td>2000-04-23</td>\n",
       "      <td>0.939271</td>\n",
       "      <td>0.840989</td>\n",
       "    </tr>\n",
       "    <tr>\n",
       "      <th>23</th>\n",
       "      <td>2000-04-24</td>\n",
       "      <td>0.789474</td>\n",
       "      <td>0.848057</td>\n",
       "    </tr>\n",
       "    <tr>\n",
       "      <th>24</th>\n",
       "      <td>2000-04-25</td>\n",
       "      <td>0.769231</td>\n",
       "      <td>0.756184</td>\n",
       "    </tr>\n",
       "    <tr>\n",
       "      <th>25</th>\n",
       "      <td>2000-04-26</td>\n",
       "      <td>0.736842</td>\n",
       "      <td>0.706714</td>\n",
       "    </tr>\n",
       "    <tr>\n",
       "      <th>26</th>\n",
       "      <td>2000-04-27</td>\n",
       "      <td>0.898785</td>\n",
       "      <td>0.710247</td>\n",
       "    </tr>\n",
       "    <tr>\n",
       "      <th>27</th>\n",
       "      <td>2000-04-28</td>\n",
       "      <td>0.878543</td>\n",
       "      <td>1.000000</td>\n",
       "    </tr>\n",
       "    <tr>\n",
       "      <th>28</th>\n",
       "      <td>2000-04-29</td>\n",
       "      <td>0.761134</td>\n",
       "      <td>0.777385</td>\n",
       "    </tr>\n",
       "    <tr>\n",
       "      <th>29</th>\n",
       "      <td>2000-04-30</td>\n",
       "      <td>1.000000</td>\n",
       "      <td>0.915194</td>\n",
       "    </tr>\n",
       "  </tbody>\n",
       "</table>\n",
       "</div>"
      ],
      "text/plain": [
       "          Date  Paperback  Hardcover\n",
       "22  2000-04-23   0.939271   0.840989\n",
       "23  2000-04-24   0.789474   0.848057\n",
       "24  2000-04-25   0.769231   0.756184\n",
       "25  2000-04-26   0.736842   0.706714\n",
       "26  2000-04-27   0.898785   0.710247\n",
       "27  2000-04-28   0.878543   1.000000\n",
       "28  2000-04-29   0.761134   0.777385\n",
       "29  2000-04-30   1.000000   0.915194"
      ]
     },
     "execution_count": 104,
     "metadata": {},
     "output_type": "execute_result"
    }
   ],
   "source": [
    "book_sales4.tail(8)"
   ]
  },
  {
   "cell_type": "code",
   "execution_count": null,
   "id": "59911e70",
   "metadata": {},
   "outputs": [],
   "source": []
  }
 ],
 "metadata": {
  "kernelspec": {
   "display_name": "Python 3 (ipykernel)",
   "language": "python",
   "name": "python3"
  },
  "language_info": {
   "codemirror_mode": {
    "name": "ipython",
    "version": 3
   },
   "file_extension": ".py",
   "mimetype": "text/x-python",
   "name": "python",
   "nbconvert_exporter": "python",
   "pygments_lexer": "ipython3",
   "version": "3.9.12"
  }
 },
 "nbformat": 4,
 "nbformat_minor": 5
}
